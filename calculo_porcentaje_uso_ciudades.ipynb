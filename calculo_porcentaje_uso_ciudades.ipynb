{
 "cells": [
  {
   "cell_type": "markdown",
   "metadata": {},
   "source": [
    "# Cálculo de porcentajes de uso del suelo"
   ]
  },
  {
   "cell_type": "markdown",
   "metadata": {},
   "source": [
    "Este script abarca el flujo de trabajo completo para obtener una tabla con el porcentaje de ocupación de uso del suelo para cada una de las ciudades de más de 100.000 habitantes de España, excluyendo el uso sin edificar y otros. Los pasos que contempla este flujo de trabajo son los siguientes: \n",
    "\n",
    "1.- Crear nueva columna para la categoría uso agregado.\n",
    "2.- Reclasificar los usos a una nueva clase uso agregado.\n",
    "3.- Asignar un nuevo código numérico a los usos de la categoría uso agregado.\n",
    "4.- Exportar los shapefile con las modificaciones realizadas.\n",
    "5.- Eliminar las clases sin edificar y otros.\n",
    "6.- Calcular los porcentajes de ocupación de cada uso respecto al total, sin considerar sin edificar y otros. "
   ]
  },
  {
   "cell_type": "code",
   "execution_count": 30,
   "metadata": {},
   "outputs": [],
   "source": [
    "import pandas as pd\n",
    "import geopandas as gpd\n",
    "import os\n",
    "import glob\n",
    "import string"
   ]
  },
  {
   "cell_type": "markdown",
   "metadata": {},
   "source": [
    " ### Incorporar una barra de progreso por medio de la libraría tqdm"
   ]
  },
  {
   "cell_type": "code",
   "execution_count": 13,
   "metadata": {},
   "outputs": [],
   "source": [
    "from tqdm import tqdm, trange \n",
    "from time import sleep\n",
    "from tqdm.notebook import tqdm"
   ]
  },
  {
   "cell_type": "markdown",
   "metadata": {},
   "source": [
    "### Definir el directorio utilizando la librería os\n"
   ]
  },
  {
   "cell_type": "code",
   "execution_count": 12,
   "metadata": {},
   "outputs": [],
   "source": [
    "path =(r\"F:/Respaldo toshiba/projectos/shapes/marcos_clasificacion_ag/\")\n",
    "# Definir directorio de trabajo\n",
    "os.chdir(path)"
   ]
  },
  {
   "cell_type": "markdown",
   "metadata": {},
   "source": [
    "Leer de forma iterativa cada uno de los shapefiles y almacenarlos en un diccionario con clave igual al nombre del archivo, y valor correspondiente al shapefile."
   ]
  },
  {
   "cell_type": "code",
   "execution_count": 33,
   "metadata": {},
   "outputs": [
    {
     "data": {
      "application/vnd.jupyter.widget-view+json": {
       "model_id": "e1dd2897ff1347f7ac73f5738b11a5c1",
       "version_major": 2,
       "version_minor": 0
      },
      "text/plain": [
       "  0%|          | 0/72 [00:00<?, ?it/s]"
      ]
     },
     "metadata": {},
     "output_type": "display_data"
    }
   ],
   "source": [
    "# Crear un diccionario vacío\n",
    "dict_shapes = {}\n",
    "# Barra de progreso indicando el número total de elementos\n",
    "pbar = tqdm(total = 72) \n",
    "# IIterar sobre cada uno de los archivos del directorio \n",
    "for file in os.listdir():\n",
    "   if file.endswith('.shp') and file[0].isalpha():\n",
    "       temp = gpd.read_file(file)\n",
    "       dict_shapes[file] = temp\n",
    "       pbar.update(1)\n",
    "       sleep(0.0001)\n",
    "pbar.close()"
   ]
  },
  {
   "cell_type": "markdown",
   "metadata": {},
   "source": [
    "Crear un nuevo diccionario: dict_areas, con los shapefiles modificados, incluyendo las clases agregadas para cada geometria. Este atributo no viene incluido en el shapefile original."
   ]
  },
  {
   "cell_type": "code",
   "execution_count": 35,
   "metadata": {},
   "outputs": [],
   "source": [
    "dict_areas = {}\n",
    "for key, value in dict_shapes.items():\n",
    "    temps = dict_shapes[key].copy()\n",
    "    temps['Area'] = temps.area\n",
    "    dict_areas[key] = temps"
   ]
  },
  {
   "cell_type": "markdown",
   "metadata": {},
   "source": [
    "1. Agregar clases usando códigos comunes entre categorías."
   ]
  },
  {
   "cell_type": "markdown",
   "metadata": {},
   "source": [
    "Leer archivos csv con las categorías agregadas"
   ]
  },
  {
   "cell_type": "code",
   "execution_count": 36,
   "metadata": {},
   "outputs": [
    {
     "data": {
      "text/html": [
       "<div>\n",
       "<style scoped>\n",
       "    .dataframe tbody tr th:only-of-type {\n",
       "        vertical-align: middle;\n",
       "    }\n",
       "\n",
       "    .dataframe tbody tr th {\n",
       "        vertical-align: top;\n",
       "    }\n",
       "\n",
       "    .dataframe thead th {\n",
       "        text-align: right;\n",
       "    }\n",
       "</style>\n",
       "<table border=\"1\" class=\"dataframe\">\n",
       "  <thead>\n",
       "    <tr style=\"text-align: right;\">\n",
       "      <th></th>\n",
       "      <th>USO</th>\n",
       "      <th>USO_AG</th>\n",
       "    </tr>\n",
       "  </thead>\n",
       "  <tbody>\n",
       "    <tr>\n",
       "      <th>0</th>\n",
       "      <td>COM</td>\n",
       "      <td>COM</td>\n",
       "    </tr>\n",
       "    <tr>\n",
       "      <th>1</th>\n",
       "      <td>ED_SING</td>\n",
       "      <td>ED_SING</td>\n",
       "    </tr>\n",
       "    <tr>\n",
       "      <th>2</th>\n",
       "      <td>EQUIP_EDU</td>\n",
       "      <td>EQUIP</td>\n",
       "    </tr>\n",
       "    <tr>\n",
       "      <th>3</th>\n",
       "      <td>EQUIP_OTR</td>\n",
       "      <td>EQUIP</td>\n",
       "    </tr>\n",
       "    <tr>\n",
       "      <th>4</th>\n",
       "      <td>EQUIP_SANI</td>\n",
       "      <td>EQUIP</td>\n",
       "    </tr>\n",
       "    <tr>\n",
       "      <th>5</th>\n",
       "      <td>HOS_REST</td>\n",
       "      <td>OCIO</td>\n",
       "    </tr>\n",
       "    <tr>\n",
       "      <th>6</th>\n",
       "      <td>IND</td>\n",
       "      <td>IND</td>\n",
       "    </tr>\n",
       "    <tr>\n",
       "      <th>7</th>\n",
       "      <td>IND_MX</td>\n",
       "      <td>IND</td>\n",
       "    </tr>\n",
       "    <tr>\n",
       "      <th>8</th>\n",
       "      <td>OCIO_ESP</td>\n",
       "      <td>OCIO</td>\n",
       "    </tr>\n",
       "    <tr>\n",
       "      <th>9</th>\n",
       "      <td>OFI</td>\n",
       "      <td>OFI</td>\n",
       "    </tr>\n",
       "    <tr>\n",
       "      <th>10</th>\n",
       "      <td>RES_PLU</td>\n",
       "      <td>RES_PLU</td>\n",
       "    </tr>\n",
       "    <tr>\n",
       "      <th>11</th>\n",
       "      <td>RES_PLU_MX</td>\n",
       "      <td>RES_PLU</td>\n",
       "    </tr>\n",
       "    <tr>\n",
       "      <th>12</th>\n",
       "      <td>RES_UNI</td>\n",
       "      <td>RES_UNI</td>\n",
       "    </tr>\n",
       "    <tr>\n",
       "      <th>13</th>\n",
       "      <td>RES_UNI_MX</td>\n",
       "      <td>RES_UNI</td>\n",
       "    </tr>\n",
       "    <tr>\n",
       "      <th>14</th>\n",
       "      <td>SIN_EDIF</td>\n",
       "      <td>SIN_EDIF</td>\n",
       "    </tr>\n",
       "    <tr>\n",
       "      <th>15</th>\n",
       "      <td>OTROS</td>\n",
       "      <td>OTROS</td>\n",
       "    </tr>\n",
       "  </tbody>\n",
       "</table>\n",
       "</div>"
      ],
      "text/plain": [
       "           USO    USO_AG\n",
       "0          COM       COM\n",
       "1      ED_SING   ED_SING\n",
       "2    EQUIP_EDU     EQUIP\n",
       "3    EQUIP_OTR     EQUIP\n",
       "4   EQUIP_SANI     EQUIP\n",
       "5     HOS_REST      OCIO\n",
       "6          IND       IND\n",
       "7       IND_MX       IND\n",
       "8     OCIO_ESP      OCIO\n",
       "9          OFI       OFI\n",
       "10     RES_PLU   RES_PLU\n",
       "11  RES_PLU_MX   RES_PLU\n",
       "12     RES_UNI   RES_UNI\n",
       "13  RES_UNI_MX   RES_UNI\n",
       "14    SIN_EDIF  SIN_EDIF\n",
       "15       OTROS     OTROS"
      ]
     },
     "execution_count": 36,
     "metadata": {},
     "output_type": "execute_result"
    }
   ],
   "source": [
    "clases_agregadas = pd.read_csv(r\"F:/Respaldo toshiba/projectos/shapes/clases_agregadas.csv\")\n",
    "clases_agregadas"
   ]
  },
  {
   "cell_type": "markdown",
   "metadata": {},
   "source": [
    "Definimos una función para hacer una join usando la función merge de pandas. Ejecuta un leftjoin a partir de la columna común uso."
   ]
  },
  {
   "cell_type": "code",
   "execution_count": 37,
   "metadata": {},
   "outputs": [],
   "source": [
    "def uso_agregado(data_in, clases):\n",
    "    data_out = {}\n",
    "    for key, value in data_in.items():\n",
    "        data_out[key] = value.merge(clases, on = 'USO', how = 'left')\n",
    "    return data_out\n"
   ]
  },
  {
   "cell_type": "markdown",
   "metadata": {},
   "source": [
    "Aplicar la función y obtenemos un nuevo diccionario con el uso agregado"
   ]
  },
  {
   "cell_type": "code",
   "execution_count": 38,
   "metadata": {},
   "outputs": [],
   "source": [
    "uso_agregado = uso_agregado(dict_areas,clases_agregadas)"
   ]
  },
  {
   "cell_type": "markdown",
   "metadata": {},
   "source": [
    "Definimos una función para asignar un codigo por categoria agregada"
   ]
  },
  {
   "cell_type": "code",
   "execution_count": 54,
   "metadata": {},
   "outputs": [],
   "source": [
    "def asignacion_codigo_categorias(data_in):\n",
    "    data_out = {}\n",
    "    for key, df in data_in.items():\n",
    "        df = df.reset_index()\n",
    "        usos = df['USO_AG'].unique()\n",
    "        cod_usos = np.arange(len(usos))\n",
    "        cod_map = pd.Series(cod_usos, index=usos)\n",
    "        df['cod_usos_a'] = df['USO_AG'].map(cod_map)\n",
    "        data_out[key] = df\n",
    "    return data_out"
   ]
  },
  {
   "cell_type": "markdown",
   "metadata": {},
   "source": [
    "Aplicamos la función para obtener un código númerico asociado a cada categoría."
   ]
  },
  {
   "cell_type": "code",
   "execution_count": 2,
   "metadata": {},
   "outputs": [],
   "source": [
    "uso_agregado_cat = asignacion_codigo_categorias(uso_agregado)"
   ]
  },
  {
   "cell_type": "code",
   "execution_count": null,
   "metadata": {},
   "outputs": [],
   "source": [
    "Calcular la suma de las áreas de cada categoría agregada"
   ]
  },
  {
   "cell_type": "code",
   "execution_count": 8,
   "metadata": {},
   "outputs": [],
   "source": [
    "df_final = pd.DataFrame()\n",
    "for key, value in uso_agregado_cat.items():\n",
    "    temp = uso_agregado_cat[key] \n",
    "    temp_cat = temp.groupby('USO_AG')['Area'].sum()\n",
    "    temp_area = temp.groupby('USO_AG')['Area'].sum().sum()\n",
    "    temp_porcentaje = (temp_cat/temp_area)*100\n",
    "    df_temp = temp_porcentaje.to_frame().rename(columns = {'Area':key})\n",
    "    df_final = pd.concat([df_final,df_temp], axis = 1)"
   ]
  },
  {
   "cell_type": "markdown",
   "metadata": {},
   "source": [
    "### Exportar los datos a un csv"
   ]
  },
  {
   "cell_type": "markdown",
   "metadata": {},
   "source": [
    "Definimos una función para eliminar la categoría otros de todos los shapesfiles."
   ]
  },
  {
   "cell_type": "code",
   "execution_count": 10,
   "metadata": {},
   "outputs": [],
   "source": [
    "dict_filter_sin_otros = {}\n",
    "for key, value in uso_agregado_gtp_cat.items():\n",
    "    ciudad = uso_agregado_gtp_cat[key].copy()\n",
    "    ciudad1 = ciudad[ciudad.loc[:,'USO_AG'] != \"OTROS\"].copy()\n",
    "    dict_filter_sin_otros[key] = ciudad1"
   ]
  },
  {
   "cell_type": "markdown",
   "metadata": {},
   "source": [
    "Calcular los porcentajes sin considerar la categoría otros. "
   ]
  },
  {
   "cell_type": "code",
   "execution_count": 11,
   "metadata": {},
   "outputs": [],
   "source": [
    "df_sin_otros = pd.DataFrame()\n",
    "for key, value in dict_filter_otros.items():\n",
    "    temp = dict_filter_otros[key] \n",
    "    temp_cat = temp.groupby('USO_AG')['Area'].sum()\n",
    "    temp_area = temp.groupby('USO_AG')['Area'].sum().sum()\n",
    "    temp_porcentaje = (temp_cat/temp_area)*100\n",
    "    df_temp = temp_porcentaje.to_frame().rename(columns = {'Area':key})\n",
    "    df_otros = pd.concat([df_sin_otros,df_temp], axis = 1)"
   ]
  },
  {
   "cell_type": "markdown",
   "metadata": {},
   "source": [
    "Finalmente, volvemos a calcular los porcentajes de cada categoría respecto al total, pero sin considerar la categoría otros, y sin edificación."
   ]
  },
  {
   "cell_type": "code",
   "execution_count": null,
   "metadata": {},
   "outputs": [],
   "source": [
    "dict_filter = {}\n",
    "for key, value in uso_agregado_gtp_cat.items():\n",
    "    ciudad = uso_agregado_gtp_cat[key].copy()\n",
    "    ciudad1 = ciudad[ciudad.loc[:,'USO_AG'] != \"SIN_EDIF\"].copy()\n",
    "    ciudad2 = ciudad1[ciudad1.loc[:,'USO_AG'] != \"OTROS\"].copy()\n",
    "    dict_filter[key] = ciudad2"
   ]
  },
  {
   "cell_type": "code",
   "execution_count": null,
   "metadata": {},
   "outputs": [],
   "source": [
    "df_final_filter = pd.DataFrame()\n",
    "for key, value in dict_filter.items():\n",
    "    temp = dict_filter[key] \n",
    "    temp_cat = temp.groupby('USO_AG')['Area'].sum()\n",
    "    temp_area = temp.groupby('USO_AG')['Area'].sum().sum()\n",
    "    temp_porcentaje = (temp_cat/temp_area)*100\n",
    "    df_temp = temp_porcentaje.to_frame().rename(columns = {'Area':key})\n",
    "    df_final_filter = pd.concat([df_final_filter,df_temp], axis = 1)"
   ]
  },
  {
   "cell_type": "markdown",
   "metadata": {},
   "source": [
    "Exportar la tabla final"
   ]
  },
  {
   "cell_type": "code",
   "execution_count": null,
   "metadata": {},
   "outputs": [],
   "source": [
    "df_final_filter.to_csv('')"
   ]
  },
  {
   "cell_type": "markdown",
   "metadata": {},
   "source": [
    "La tabla tiene las variables en las filas y las observaciones en las columnas, por lo tanto tenemos que transformarla (Formato wide a long)"
   ]
  },
  {
   "cell_type": "code",
   "execution_count": null,
   "metadata": {},
   "outputs": [],
   "source": [
    "df_final_filter_melt = df_final_filter.melt(id_vars = \"USO_AG\")"
   ]
  },
  {
   "cell_type": "code",
   "execution_count": null,
   "metadata": {},
   "outputs": [],
   "source": [
    "df_final_filter_pivot = df_final_filter_melt.pivot(columns = \"USO_AG\", values = 'value', index = 'variable')"
   ]
  },
  {
   "cell_type": "code",
   "execution_count": null,
   "metadata": {},
   "outputs": [],
   "source": [
    "df_final_filter_pivot = df_final_filter_pivot.reset_index()"
   ]
  },
  {
   "cell_type": "code",
   "execution_count": null,
   "metadata": {},
   "outputs": [],
   "source": [
    "df_final_filter_pivot.to_csv(\"\")"
   ]
  },
  {
   "cell_type": "markdown",
   "metadata": {},
   "source": [
    "### Finalmente queremos corregir el nombre de las ciudades para dejar solamente el nombre de las ciudades. Esto lo haremos utilizando expresiones regulares."
   ]
  },
  {
   "cell_type": "code",
   "execution_count": null,
   "metadata": {},
   "outputs": [],
   "source": [
    "df_final_filter_pivot['Ciudad'] = df_final_filter_pivot['Ciudades'].str.replace('_', ' ')\n",
    "df_final_filter_pivot['Ciudad'] = df_final_filter_pivot['Ciudad'].str.replace(r'\\.txt$', '')\n",
    "df_final_filter_pivot['Ciudad'] = df_final_filter_pivot['Ciudad'].apply(lambda x: x.capitalize())"
   ]
  },
  {
   "cell_type": "code",
   "execution_count": null,
   "metadata": {},
   "outputs": [],
   "source": [
    "rep = {'Alcorcon':'Alcorcón','Ciudad real':'Ciudad Real','Bodajoz':'Badajoz','Dos hermanas':'Dos Hermanas','Fuentelabra':'Fuenlabrada',\n",
    "'Leganes':'Leganés','Logronio':'Logroño','Mataro':'Mataró','Mostoles':'Móstoles','Santa coloma':'Santa Coloma','Santa cruz tenerife':'Santa Cruz de Tenerife',\n",
    "'San cristobal':'San Cristóbal','Terrasa':'Terrassa','Terragona':'Tarragona','Corunia':'Coruña','Gijon':'Gijón',\n",
    "'Las palmas':'Palmas de Gran Canaria, Las'}"
   ]
  },
  {
   "cell_type": "code",
   "execution_count": null,
   "metadata": {},
   "outputs": [],
   "source": [
    "def replace_cities(df, replacements,col):\n",
    "    for city, replacement in replacements.items():\n",
    "        df[col] = df[col].str.replace(city, replacement)\n",
    "    return df"
   ]
  },
  {
   "cell_type": "code",
   "execution_count": 2,
   "metadata": {},
   "outputs": [],
   "source": [
    "df_final_filter_pivot_replace = replace_cities(df_final_filter_pivot, rep,'Ciudad')"
   ]
  },
  {
   "cell_type": "code",
   "execution_count": null,
   "metadata": {},
   "outputs": [],
   "source": []
  }
 ],
 "metadata": {
  "kernelspec": {
   "display_name": "datamecum",
   "language": "python",
   "name": "python3"
  },
  "language_info": {
   "codemirror_mode": {
    "name": "ipython",
    "version": 3
   },
   "file_extension": ".py",
   "mimetype": "text/x-python",
   "name": "python",
   "nbconvert_exporter": "python",
   "pygments_lexer": "ipython3",
   "version": "3.9.13"
  }
 },
 "nbformat": 4,
 "nbformat_minor": 2
}
